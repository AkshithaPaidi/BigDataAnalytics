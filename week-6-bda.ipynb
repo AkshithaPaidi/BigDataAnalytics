{
 "cells": [
  {
   "cell_type": "markdown",
   "id": "a8b05827-56b5-416b-895c-8a45777e7526",
   "metadata": {},
   "source": [
    "Perform simple data transformation like filtering evennumbers from a given list using PySpark RDD"
   ]
  },
  {
   "cell_type": "code",
   "execution_count": 1,
   "id": "c2ecb73d-af6e-4c99-8bdf-bc8371eddb0e",
   "metadata": {},
   "outputs": [
    {
     "data": {
      "text/html": [
       "\n",
       "        <div>\n",
       "            <p><b>SparkContext</b></p>\n",
       "\n",
       "            <p><a href=\"http://AKSHITHA.lan:4040\">Spark UI</a></p>\n",
       "\n",
       "            <dl>\n",
       "              <dt>Version</dt>\n",
       "                <dd><code>v4.0.1</code></dd>\n",
       "              <dt>Master</dt>\n",
       "                <dd><code>local[*]</code></dd>\n",
       "              <dt>AppName</dt>\n",
       "                <dd><code>PySparkShell</code></dd>\n",
       "            </dl>\n",
       "        </div>\n",
       "        "
      ],
      "text/plain": [
       "<SparkContext master=local[*] appName=PySparkShell>"
      ]
     },
     "execution_count": 1,
     "metadata": {},
     "output_type": "execute_result"
    }
   ],
   "source": [
    "sc"
   ]
  },
  {
   "cell_type": "code",
   "execution_count": 1,
   "id": "95b9e157-0819-465a-b5d4-4162b8b5ac84",
   "metadata": {},
   "outputs": [],
   "source": [
    "import random\n",
    " # Step 1: Initialize SparkContext\n",
    " #sc = SparkContext(\"local\", \"EvenNumberFilter\")"
   ]
  },
  {
   "cell_type": "code",
   "execution_count": 2,
   "id": "96915312-d086-4fd9-8c62-298c4a3bf81f",
   "metadata": {
    "scrolled": true
   },
   "outputs": [
    {
     "name": "stdout",
     "output_type": "stream",
     "text": [
      "Original List:\n",
      "[395, 223, 321, 285, 658, 480, 78, 686, 298, 739, 359, 619, 369, 802, 649, 4, 726, 973, 384, 665, 762, 309, 624, 317, 983, 511, 125, 646, 77, 725, 768, 822, 309, 426, 141, 322, 28, 457, 665, 165, 398, 249, 25, 246, 887, 932, 457, 848, 652, 903, 212, 415, 841, 122, 915, 45, 110, 846, 594, 96, 236, 384, 509, 783, 786, 733, 206, 45, 858, 353, 272, 794, 300, 746, 455, 846, 981, 814, 352, 775, 823, 757, 694, 204, 75, 804, 821, 282, 506, 100, 307, 45, 4, 849, 476, 8, 604, 418, 961, 583]\n"
     ]
    }
   ],
   "source": [
    " # Step 2: Generate 100 random integers between 1 and 1000\n",
    "random_numbers = [random.randint(1, 1000) for _ in range(100)]\n",
    "print(\"Original List:\")\n",
    "print(random_numbers)"
   ]
  },
  {
   "cell_type": "code",
   "execution_count": 3,
   "id": "7d06ea5a-440c-455f-be9f-d8c7d6bd1619",
   "metadata": {},
   "outputs": [],
   "source": [
    " # Step 3: Parallelize the list into an RDD\n",
    "numbers_rdd = sc.parallelize(random_numbers)"
   ]
  },
  {
   "cell_type": "code",
   "execution_count": 4,
   "id": "eed6d713-311c-4551-8e54-e3d00b81ea5a",
   "metadata": {},
   "outputs": [],
   "source": [
    " # Step 4: Filter only even numbers\n",
    "even_numbers_rdd = numbers_rdd.filter(lambda x: x % 2 == 0)"
   ]
  },
  {
   "cell_type": "code",
   "execution_count": 5,
   "id": "ed48ac92-3997-441d-b799-8ad34e50b5b1",
   "metadata": {
    "scrolled": true
   },
   "outputs": [
    {
     "name": "stdout",
     "output_type": "stream",
     "text": [
      "\n",
      "Even Numbers:\n",
      "[658, 480, 78, 686, 298, 802, 4, 726, 384, 762, 624, 646, 768, 822, 426, 322, 28, 398, 246, 932, 848, 652, 212, 122, 110, 846, 594, 96, 236, 384, 786, 206, 858, 272, 794, 300, 746, 846, 814, 352, 694, 204, 804, 282, 506, 100, 4, 476, 8, 604, 418]\n"
     ]
    }
   ],
   "source": [
    " # Step 5: Collect results\n",
    "even_numbers = even_numbers_rdd.collect()\n",
    "print(\"\\nEven Numbers:\")\n",
    "print(even_numbers)"
   ]
  },
  {
   "cell_type": "code",
   "execution_count": null,
   "id": "c069d8e2-f61e-4e5f-87bb-fb2f2cc2b8d2",
   "metadata": {},
   "outputs": [],
   "source": []
  }
 ],
 "metadata": {
  "kernelspec": {
   "display_name": "Python 3 (ipykernel)",
   "language": "python",
   "name": "python3"
  },
  "language_info": {
   "codemirror_mode": {
    "name": "ipython",
    "version": 3
   },
   "file_extension": ".py",
   "mimetype": "text/x-python",
   "name": "python",
   "nbconvert_exporter": "python",
   "pygments_lexer": "ipython3",
   "version": "3.11.13"
  }
 },
 "nbformat": 4,
 "nbformat_minor": 5
}
